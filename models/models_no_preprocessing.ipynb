{
 "metadata": {
  "language_info": {
   "codemirror_mode": {
    "name": "ipython",
    "version": 3
   },
   "file_extension": ".py",
   "mimetype": "text/x-python",
   "name": "python",
   "nbconvert_exporter": "python",
   "pygments_lexer": "ipython3",
   "version": "3.9.5"
  },
  "orig_nbformat": 2,
  "kernelspec": {
   "name": "python3",
   "display_name": "Python 3.9.5 64-bit"
  },
  "metadata": {
   "interpreter": {
    "hash": "aee8b7b246df8f9039afb4144a1f6fd8d2ca17a180786b69acc140d282b71a49"
   }
  },
  "interpreter": {
   "hash": "aee8b7b246df8f9039afb4144a1f6fd8d2ca17a180786b69acc140d282b71a49"
  }
 },
 "nbformat": 4,
 "nbformat_minor": 2,
 "cells": [
  {
   "source": [
    "## Import libraries"
   ],
   "cell_type": "markdown",
   "metadata": {}
  },
  {
   "cell_type": "code",
   "execution_count": 11,
   "metadata": {},
   "outputs": [],
   "source": [
    "import pandas as panda\n",
    "import numpy as np\n",
    "import matplotlib.pyplot as plt\n",
    "from math import ceil\n",
    "\n",
    "from sklearn import linear_model\n",
    "from sklearn.model_selection import train_test_split\n",
    "\n",
    "from sklearn.model_selection import cross_validate\n",
    "from sklearn.linear_model import LogisticRegression\n",
    "from sklearn.tree import DecisionTreeClassifier\n",
    "from sklearn.svm import SVC\n",
    "from sklearn.metrics import accuracy_score, roc_auc_score, precision_score, recall_score, f1_score, precision_recall_curve, roc_curve, plot_confusion_matrix\n",
    "\n",
    "from sklearn.decomposition import PCA\n",
    "from sklearn.naive_bayes import BernoulliNB\n",
    "from sklearn.linear_model import LogisticRegression, SGDClassifier\n",
    "from sklearn.svm import SVC\n",
    "from sklearn.neighbors import KNeighborsClassifier\n",
    "from sklearn.tree import DecisionTreeClassifier\n",
    "from sklearn.ensemble import RandomForestClassifier, GradientBoostingClassifier\n",
    "from sklearn.discriminant_analysis import LinearDiscriminantAnalysis\n",
    "\n",
    "from sklearn.preprocessing import StandardScaler"
   ]
  },
  {
   "cell_type": "code",
   "execution_count": 12,
   "metadata": {},
   "outputs": [],
   "source": [
    "panda.set_option(\"display.max_columns\", 57)\n",
    "\n",
    "columns = []\n",
    "with open(\"../data/columns.txt\", \"r\") as doc:\n",
    "    lines = doc.readlines()\n",
    "    for line in lines:\n",
    "        columns.append(line.split(\":\")[0])"
   ]
  },
  {
   "cell_type": "code",
   "execution_count": 13,
   "metadata": {},
   "outputs": [],
   "source": [
    "df2 = panda.read_csv(\"../data/spambase.data\", header=None)"
   ]
  },
  {
   "source": [
    "## Data preprocessing. Training and test set"
   ],
   "cell_type": "markdown",
   "metadata": {}
  },
  {
   "cell_type": "code",
   "execution_count": 14,
   "metadata": {},
   "outputs": [],
   "source": [
    "y = df2[np.shape(df2)[1]-1] # class column\n",
    "x = df2.drop([np.shape(df2)[1]-1], axis = 1) # remove class column\n",
    "x_train, x_test, y_train, y_test = train_test_split(x,y, random_state=69, train_size=0.66)"
   ]
  },
  {
   "source": [
    "## Initialize models"
   ],
   "cell_type": "markdown",
   "metadata": {}
  },
  {
   "cell_type": "code",
   "execution_count": 15,
   "metadata": {},
   "outputs": [],
   "source": [
    "MODELS = []\n",
    "# MODELS.append((\"Logistig Regression\", LogisticRegression(max_iter=10000)))\n",
    "MODELS.append((\"Decision Tree Classifier\", DecisionTreeClassifier()))\n",
    "# MODELS.append((\"SVC\", SVC()))\n",
    "MODELS.append((\"K Nearest Neighbour\", KNeighborsClassifier()))\n",
    "MODELS.append((\"Support Vector Classification\", SVC()))\n",
    "MODELS.append(\"Bayes\", BernoulliNB())\n",
    "# MODELS.append((\"Stochastic Gradient Descent\", SGDClassifier()))\n",
    "# MODELS.append((\"Linear Discriminant Analysis\", LinearDiscriminantAnalysis()))\n",
    "# MODELS.append((\"Gradient Boosting Classification \", GradientBoostingClassifier()))\n",
    "# MODELS.append((\"Random Forest Classification\", RandomForestClassifier()))"
   ]
  },
  {
   "cell_type": "code",
   "execution_count": 16,
   "metadata": {},
   "outputs": [],
   "source": [
    "def get_stats(y_predicted):\n",
    "    accuracy = accuracy_score(y_test, y_predicted)\n",
    "    precision = precision_score(y_test, y_predicted)\n",
    "    recall = recall_score(y_test, y_predicted)\n",
    "    f1 = f1_score(y_test, y_predicted)\n",
    "    roc = roc_auc_score(y_test, y_predicted)\n",
    "    return [accuracy,precision,recall,f1,roc]\n"
   ]
  },
  {
   "source": [
    "### Fit train data in model and predict"
   ],
   "cell_type": "markdown",
   "metadata": {}
  },
  {
   "cell_type": "code",
   "execution_count": 17,
   "metadata": {},
   "outputs": [],
   "source": [
    "column_names = [\"Model\",\"Accuracy\", \"Precision\",\"Recall\",\"F1-Score\",\"AUC\"]\n",
    "results = []\n",
    "for name, model in MODELS:\n",
    "    model.fit(X=x_train, y=y_train)\n",
    "    y_predicted = model.predict(x_test)\n",
    "    results.append([name, *get_stats(y_predicted)])"
   ]
  },
  {
   "source": [
    "## Create dataframe and sort"
   ],
   "cell_type": "markdown",
   "metadata": {}
  },
  {
   "cell_type": "code",
   "execution_count": 18,
   "metadata": {},
   "outputs": [
    {
     "output_type": "execute_result",
     "data": {
      "text/plain": [
       "                           Model  Accuracy  Precision    Recall  F1-Score  \\\n",
       "0       Decision Tree Classifier  0.906070   0.894215  0.866987  0.880391   \n",
       "1            K Nearest Neighbour  0.789137   0.746644  0.713141  0.729508   \n",
       "2  Support Vector Classification  0.716933   0.746594  0.439103  0.552977   \n",
       "\n",
       "        AUC  \n",
       "0  0.899487  \n",
       "1  0.776337  \n",
       "2  0.670136  "
      ],
      "text/html": "<div>\n<style scoped>\n    .dataframe tbody tr th:only-of-type {\n        vertical-align: middle;\n    }\n\n    .dataframe tbody tr th {\n        vertical-align: top;\n    }\n\n    .dataframe thead th {\n        text-align: right;\n    }\n</style>\n<table border=\"1\" class=\"dataframe\">\n  <thead>\n    <tr style=\"text-align: right;\">\n      <th></th>\n      <th>Model</th>\n      <th>Accuracy</th>\n      <th>Precision</th>\n      <th>Recall</th>\n      <th>F1-Score</th>\n      <th>AUC</th>\n    </tr>\n  </thead>\n  <tbody>\n    <tr>\n      <th>0</th>\n      <td>Decision Tree Classifier</td>\n      <td>0.906070</td>\n      <td>0.894215</td>\n      <td>0.866987</td>\n      <td>0.880391</td>\n      <td>0.899487</td>\n    </tr>\n    <tr>\n      <th>1</th>\n      <td>K Nearest Neighbour</td>\n      <td>0.789137</td>\n      <td>0.746644</td>\n      <td>0.713141</td>\n      <td>0.729508</td>\n      <td>0.776337</td>\n    </tr>\n    <tr>\n      <th>2</th>\n      <td>Support Vector Classification</td>\n      <td>0.716933</td>\n      <td>0.746594</td>\n      <td>0.439103</td>\n      <td>0.552977</td>\n      <td>0.670136</td>\n    </tr>\n  </tbody>\n</table>\n</div>"
     },
     "metadata": {},
     "execution_count": 18
    }
   ],
   "source": [
    "res = panda.DataFrame(results, columns=column_names)\n",
    "res = res.sort_values(by=\"Accuracy\", ascending=False)\n",
    "res"
   ]
  },
  {
   "source": [
    "### Sort the initial models by precision"
   ],
   "cell_type": "markdown",
   "metadata": {}
  },
  {
   "cell_type": "code",
   "execution_count": 19,
   "metadata": {},
   "outputs": [],
   "source": [
    "diz = {v: i for i, v in enumerate(list(res[\"Model\"]))}\n",
    "SORTED_MODELS = sorted(MODELS, key = lambda x: diz[x[0]])"
   ]
  },
  {
   "cell_type": "code",
   "execution_count": 20,
   "metadata": {},
   "outputs": [
    {
     "output_type": "error",
     "ename": "IndexError",
     "evalue": "too many indices for array: array is 1-dimensional, but 2 were indexed",
     "traceback": [
      "\u001b[0;31m---------------------------------------------------------------------------\u001b[0m",
      "\u001b[0;31mIndexError\u001b[0m                                Traceback (most recent call last)",
      "\u001b[0;32m<ipython-input-20-df5720801753>\u001b[0m in \u001b[0;36m<module>\u001b[0;34m\u001b[0m\n\u001b[1;32m      6\u001b[0m \u001b[0;32mfor\u001b[0m \u001b[0mi\u001b[0m\u001b[0;34m,\u001b[0m \u001b[0;34m(\u001b[0m\u001b[0mname\u001b[0m\u001b[0;34m,\u001b[0m \u001b[0mmodel\u001b[0m\u001b[0;34m)\u001b[0m \u001b[0;32min\u001b[0m \u001b[0menumerate\u001b[0m\u001b[0;34m(\u001b[0m\u001b[0mSORTED_MODELS\u001b[0m\u001b[0;34m)\u001b[0m\u001b[0;34m:\u001b[0m\u001b[0;34m\u001b[0m\u001b[0;34m\u001b[0m\u001b[0m\n\u001b[1;32m      7\u001b[0m     \u001b[0my\u001b[0m\u001b[0;34m,\u001b[0m\u001b[0mx\u001b[0m \u001b[0;34m=\u001b[0m \u001b[0mi\u001b[0m \u001b[0;34m//\u001b[0m \u001b[0mitems_per_row\u001b[0m\u001b[0;34m,\u001b[0m \u001b[0mi\u001b[0m \u001b[0;34m%\u001b[0m \u001b[0mitems_per_row\u001b[0m\u001b[0;34m\u001b[0m\u001b[0;34m\u001b[0m\u001b[0m\n\u001b[0;32m----> 8\u001b[0;31m     \u001b[0mplot_confusion_matrix\u001b[0m\u001b[0;34m(\u001b[0m\u001b[0mmodel\u001b[0m\u001b[0;34m,\u001b[0m \u001b[0mx_test\u001b[0m\u001b[0;34m,\u001b[0m \u001b[0my_test\u001b[0m\u001b[0;34m,\u001b[0m \u001b[0max\u001b[0m\u001b[0;34m=\u001b[0m\u001b[0maxs\u001b[0m\u001b[0;34m[\u001b[0m\u001b[0my\u001b[0m\u001b[0;34m,\u001b[0m\u001b[0mx\u001b[0m\u001b[0;34m]\u001b[0m\u001b[0;34m)\u001b[0m\u001b[0;34m\u001b[0m\u001b[0;34m\u001b[0m\u001b[0m\n\u001b[0m\u001b[1;32m      9\u001b[0m     \u001b[0maxs\u001b[0m\u001b[0;34m[\u001b[0m\u001b[0my\u001b[0m\u001b[0;34m,\u001b[0m\u001b[0mx\u001b[0m\u001b[0;34m]\u001b[0m\u001b[0;34m.\u001b[0m\u001b[0mset_title\u001b[0m\u001b[0;34m(\u001b[0m\u001b[0mname\u001b[0m\u001b[0;34m)\u001b[0m\u001b[0;34m\u001b[0m\u001b[0;34m\u001b[0m\u001b[0m\n\u001b[1;32m     10\u001b[0m \u001b[0;34m\u001b[0m\u001b[0m\n",
      "\u001b[0;31mIndexError\u001b[0m: too many indices for array: array is 1-dimensional, but 2 were indexed"
     ]
    }
   ],
   "source": [
    "items_per_row = 3\n",
    "fig, axs = plt.subplots(ceil(len(SORTED_MODELS)/items_per_row), items_per_row, sharex=True, figsize=(15,15))\n",
    "fig.suptitle('Confusion Matrix')\n",
    "fig.tight_layout(pad=2.0, h_pad=5.0)\n",
    "\n",
    "for i, (name, model) in enumerate(SORTED_MODELS):\n",
    "    y,x = i // items_per_row, i % items_per_row\n",
    "    plot_confusion_matrix(model, x_test, y_test, ax=axs[y,x])\n",
    "    axs[y,x].set_title(name)\n",
    "\n",
    "for i in range(len(SORTED_MODELS),ceil(len(SORTED_MODELS)/items_per_row) * items_per_row):\n",
    "    y,x = i // items_per_row, i % items_per_row\n",
    "    axs[y,x].axis(\"off\")\n"
   ]
  },
  {
   "cell_type": "code",
   "execution_count": null,
   "metadata": {},
   "outputs": [],
   "source": []
  }
 ]
}